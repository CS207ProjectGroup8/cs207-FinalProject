{
 "cells": [
  {
   "cell_type": "markdown",
   "metadata": {
    "slideshow": {
     "slide_type": "slide"
    }
   },
   "source": [
    "# hotAD\n",
    "### A hot new package for Automatic Differentiation"
   ]
  },
  {
   "cell_type": "markdown",
   "metadata": {
    "slideshow": {
     "slide_type": "slide"
    }
   },
   "source": [
    "## I. What's the burning need for Automatic Differentiation?\n",
    "\n",
    "### 1 minute\n",
    "\n",
    "HENRY THE THIEF"
   ]
  },
  {
   "cell_type": "markdown",
   "metadata": {
    "slideshow": {
     "slide_type": "fragment"
    }
   },
   "source": [
    "Motivation"
   ]
  },
  {
   "cell_type": "markdown",
   "metadata": {
    "slideshow": {
     "slide_type": "fragment"
    }
   },
   "source": [
    "Background - Chain Rule"
   ]
  },
  {
   "cell_type": "markdown",
   "metadata": {
    "slideshow": {
     "slide_type": "slide"
    }
   },
   "source": [
    "## II. How can hotAD help?"
   ]
  },
  {
   "cell_type": "markdown",
   "metadata": {
    "slideshow": {
     "slide_type": "fragment"
    }
   },
   "source": [
    "## Basic Features"
   ]
  },
  {
   "cell_type": "code",
   "execution_count": 5,
   "metadata": {},
   "outputs": [],
   "source": [
    "from hotAD.AutoDiffObject import AutoDiff as ad\n",
    "from hotAD.ElementaryFunctions import ElementaryFunctions as ef\n",
    "from hotAD.ADfun import *"
   ]
  },
  {
   "cell_type": "markdown",
   "metadata": {
    "slideshow": {
     "slide_type": "slide"
    }
   },
   "source": [
    "Basic features:  \n",
    "function value  \n",
    "first derivative  \n",
    "Jacobian matrix  $J_F$ calculated for functions of the form $F : \\mathbb{R}^n \\rightarrow \\mathbb{R}^m$\n",
    "\n",
    "++ demo of all of the above\n",
    "\n",
    "### less than 3 minutes\n",
    "\n",
    "Anthony sad face"
   ]
  },
  {
   "cell_type": "markdown",
   "metadata": {
    "slideshow": {
     "slide_type": "slide"
    }
   },
   "source": [
    "## Advanced features:\n",
    "### 1. Root Finding\n",
    "### 2. Optimization"
   ]
  },
  {
   "cell_type": "markdown",
   "metadata": {
    "slideshow": {
     "slide_type": "slide"
    }
   },
   "source": [
    "## Advanced features for implementing numerical methods:\n",
    "###  <font color='green'> 1. Root Finding</font> \n",
    "\n",
    "### 2. Optimization"
   ]
  },
  {
   "cell_type": "markdown",
   "metadata": {
    "slideshow": {
     "slide_type": "slide"
    }
   },
   "source": [
    "### Roots of a function\n",
    "\n",
    "Suppose $F: \\mathbb{R}^n \\rightarrow \\mathbb{R}^n$, where $n\\ge 1$. \n",
    "\n",
    "$F$ is a vector of the form $F = (F_1, F_2, \\dots, F_n)$"
   ]
  },
  {
   "cell_type": "markdown",
   "metadata": {
    "slideshow": {
     "slide_type": "fragment"
    }
   },
   "source": [
    "We seek a root $\\mathbf{x} \\in \\mathbb{R}^n$ such that $F(\\mathbf{x}) = \\mathbf{0} $.   "
   ]
  },
  {
   "cell_type": "markdown",
   "metadata": {
    "slideshow": {
     "slide_type": "slide"
    }
   },
   "source": [
    "### Numerical method to find roots: Newton's method\n",
    "\n",
    "Suppose we have an initial guess for the root, $\\mathbf{x}_0$. \n",
    "\n",
    "Then, given the Jacobian of $F$, $J_F$, we can perform linear approximation of the function around the initial guess and solve the linear system for $\\Delta \\mathbf{x}_0 $, as below:\n",
    "$$  J_F (\\mathbf{x}_0) \\cdot \\Delta x_0 = - F(\\mathbf{x}_0)$$ \n",
    "  \n",
    "Using the value for $\\Delta \\mathbf{x}_0 $ found, we can update the value of our guess for the root:\n",
    "$$\\mathbf{x}_{1} = \\mathbf{x}_0 + \\Delta \\mathbf{x}_0 $$\n",
    "\n",
    "Then, we can repeat the above process and iterate until a certain criteria is met (e.g. stop based on absolute step size, $|| \\mathbf{x}_{k+1} - \\mathbf{x}_k || < 10^{-8}$)."
   ]
  },
  {
   "cell_type": "markdown",
   "metadata": {},
   "source": []
  },
  {
   "cell_type": "markdown",
   "metadata": {},
   "source": []
  },
  {
   "cell_type": "markdown",
   "metadata": {},
   "source": []
  },
  {
   "cell_type": "markdown",
   "metadata": {},
   "source": [
    "\n",
    "\n",
    "Root finding: Newton   $F : \\mathbb{R}^n \\rightarrow \\mathbb{R}^n$   \n",
    "(brief math background plz)  \n",
    "\n",
    "++ demo\n",
    "\n",
    "### 1.5 minutes\n",
    "\n",
    "Lipika (killing the puns tonight)"
   ]
  },
  {
   "cell_type": "markdown",
   "metadata": {},
   "source": [
    "**Additional features:**\n",
    "\n",
    "Optimization: $F : \\mathbb{R}^n \\rightarrow \\mathbb{R}$  \n",
    "3 methods:\n",
    "- Newton -- Lipika\n",
    "- BFGS -- Kay the literal mastermind behind our additional features\n",
    "- Gradient Descent  -- Kay aka KWEEN\n",
    "\n",
    "(brief math background plz)  \n",
    "++ demo plz  \n",
    "++ compare 3 methods (maybe using %time?)\n",
    "\n",
    "### 5 minutes"
   ]
  },
  {
   "cell_type": "markdown",
   "metadata": {
    "slideshow": {
     "slide_type": "slide"
    }
   },
   "source": [
    "## III. Conclusion\n",
    "\n",
    "- Future work\n",
    "- Possible Extensions\n",
    "\n",
    "### 1 minute\n",
    "\n",
    "Henry the closer"
   ]
  },
  {
   "cell_type": "markdown",
   "metadata": {},
   "source": [
    "## Some quick examples for y'all"
   ]
  },
  {
   "cell_type": "code",
   "execution_count": 3,
   "metadata": {},
   "outputs": [],
   "source": [
    "import hotAD"
   ]
  },
  {
   "cell_type": "code",
   "execution_count": 76,
   "metadata": {},
   "outputs": [],
   "source": [
    "from hotAD.AutoDiffObject import AutoDiff as ad\n",
    "from hotAD.ElementaryFunctions import ElementaryFunctions as ef\n",
    "from hotAD.ADfun import *"
   ]
  },
  {
   "cell_type": "code",
   "execution_count": 77,
   "metadata": {},
   "outputs": [],
   "source": [
    "x = ad(1, \"x\", H = True)\n",
    "b = ad(3, \"b\", H = True)"
   ]
  },
  {
   "cell_type": "code",
   "execution_count": 78,
   "metadata": {},
   "outputs": [],
   "source": [
    "y = ef.sin(x) * b + ef.power(b, 2) * x"
   ]
  },
  {
   "cell_type": "code",
   "execution_count": 79,
   "metadata": {},
   "outputs": [
    {
     "data": {
      "text/plain": [
       "(11.524412954423688,\n",
       " {'b': 6.841470984807897, 'x': 10.620906917604419},\n",
       " {'b': 2.0,\n",
       "  'bx': 6.54030230586814,\n",
       "  'xb': 6.54030230586814,\n",
       "  'x': -2.5244129544236893})"
      ]
     },
     "execution_count": 79,
     "metadata": {},
     "output_type": "execute_result"
    }
   ],
   "source": [
    "y.val, y.der, y.der2"
   ]
  },
  {
   "cell_type": "markdown",
   "metadata": {},
   "source": [
    "To get the Jacobian:\n",
    "\n",
    "$$ f:\\mathbb{R}^n \\rightarrow \\mathbb{R}^m $$\n",
    "\n",
    "Define $f$  \n",
    "  $$ f:\\mathbb{R}^2 \\rightarrow \\mathbb{R}^3 $$\n",
    "\n",
    "  $$f_1 = e^{x_1^2} + x_3 sin(x_1x_2)$$\n",
    "  $$f_2 = x_1 \\times x_2$$"
   ]
  },
  {
   "cell_type": "code",
   "execution_count": 80,
   "metadata": {},
   "outputs": [],
   "source": [
    "x = [2, 0.4]"
   ]
  },
  {
   "cell_type": "code",
   "execution_count": 81,
   "metadata": {},
   "outputs": [],
   "source": [
    "def f(x):\n",
    "    return [ef.exp(x[0]) + x[1] * ef.sin(x[0]*x[1]), x[1] * x[0]]"
   ]
  },
  {
   "cell_type": "code",
   "execution_count": 82,
   "metadata": {},
   "outputs": [],
   "source": [
    "f_eval, jacobian = J_F(f, x)"
   ]
  },
  {
   "cell_type": "code",
   "execution_count": 83,
   "metadata": {},
   "outputs": [
    {
     "data": {
      "text/plain": [
       "(array([7.67599854, 0.8       ]), array([[7.50052917, 1.27472146],\n",
       "        [0.4       , 2.        ]]))"
      ]
     },
     "execution_count": 83,
     "metadata": {},
     "output_type": "execute_result"
    }
   ],
   "source": [
    "f_eval, jacobian"
   ]
  }
 ],
 "metadata": {
  "celltoolbar": "Slideshow",
  "kernelspec": {
   "display_name": "Python 3",
   "language": "python",
   "name": "python3"
  },
  "language_info": {
   "codemirror_mode": {
    "name": "ipython",
    "version": 3
   },
   "file_extension": ".py",
   "mimetype": "text/x-python",
   "name": "python",
   "nbconvert_exporter": "python",
   "pygments_lexer": "ipython3",
   "version": "3.7.0"
  }
 },
 "nbformat": 4,
 "nbformat_minor": 2
}
