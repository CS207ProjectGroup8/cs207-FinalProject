{
 "cells": [
  {
   "cell_type": "markdown",
   "metadata": {
    "slideshow": {
     "slide_type": "slide"
    }
   },
   "source": [
    "# hotAD\n",
    "## The hottest new package for Automatic Differentiation"
   ]
  },
  {
   "cell_type": "markdown",
   "metadata": {
    "slideshow": {
     "slide_type": "slide"
    }
   },
   "source": [
    "## I. Why the burning need for Automatic Differentiation?\n",
    "\n",
    "### 1 minute\n",
    "\n",
    "HENRY THE THIEF"
   ]
  },
  {
   "cell_type": "markdown",
   "metadata": {
    "slideshow": {
     "slide_type": "subslide"
    }
   },
   "source": [
    "Motivation"
   ]
  },
  {
   "cell_type": "markdown",
   "metadata": {
    "slideshow": {
     "slide_type": "subslide"
    }
   },
   "source": [
    "Background - Chain Rule"
   ]
  },
  {
   "cell_type": "markdown",
   "metadata": {
    "slideshow": {
     "slide_type": "slide"
    }
   },
   "source": [
    "## II. How can hotAD help?"
   ]
  },
  {
   "cell_type": "markdown",
   "metadata": {},
   "source": [
    "Basic features:  \n",
    "function value  \n",
    "first derivative  \n",
    "Jacobian matrix  $J_F$ calculated for functions of the form $F : \\mathbb{R}^n \\rightarrow \\mathbb{R}^m$\n",
    "\n",
    "++ demo of all of the above\n",
    "\n",
    "### less than 3 minutes\n",
    "\n",
    "Anthony sad face"
   ]
  },
  {
   "cell_type": "markdown",
   "metadata": {},
   "source": [
    "**Additional features:**\n",
    "\n",
    "Root finding: Newton   $F : \\mathbb{R}^n \\rightarrow \\mathbb{R}^n$   \n",
    "(brief math background plz)  \n",
    "\n",
    "++ demo\n",
    "\n",
    "### 1.5 minutes\n",
    "\n",
    "Lipika (killing the puns tonight)"
   ]
  },
  {
   "cell_type": "code",
   "execution_count": null,
   "metadata": {},
   "outputs": [],
   "source": []
  },
  {
   "cell_type": "markdown",
   "metadata": {},
   "source": [
    "**Additional features:**\n",
    "\n",
    "Optimization: $F : \\mathbb{R}^n \\rightarrow \\mathbb{R}$  \n",
    "3 methods:\n",
    "- Newton -- Lipika\n",
    "- BFGS -- Kay the literal mastermind behind our additional features\n",
    "- Gradient Descent  -- Kay aka KWEEN\n",
    "\n",
    "(brief math background plz)  \n",
    "++ demo plz  \n",
    "++ compare 3 methods (maybe using %time?)\n",
    "\n",
    "### 5 minutes"
   ]
  },
  {
   "cell_type": "markdown",
   "metadata": {
    "slideshow": {
     "slide_type": "slide"
    }
   },
   "source": [
    "## III. Conclusion\n",
    "\n",
    "- Future work\n",
    "- Possible Extensions\n",
    "\n",
    "### 1 minute\n",
    "\n",
    "Henry the closer"
   ]
  },
  {
   "cell_type": "markdown",
   "metadata": {},
   "source": [
    "## Some quick examples for y'all"
   ]
  },
  {
   "cell_type": "code",
   "execution_count": 75,
   "metadata": {},
   "outputs": [],
   "source": [
    "import hotAD"
   ]
  },
  {
   "cell_type": "code",
   "execution_count": 76,
   "metadata": {},
   "outputs": [],
   "source": [
    "from hotAD.AutoDiffObject import AutoDiff as ad\n",
    "from hotAD.ElementaryFunctions import ElementaryFunctions as ef\n",
    "from hotAD.ADfun import *"
   ]
  },
  {
   "cell_type": "code",
   "execution_count": 77,
   "metadata": {},
   "outputs": [],
   "source": [
    "x = ad(1, \"x\", H = True)\n",
    "b = ad(3, \"b\", H = True)"
   ]
  },
  {
   "cell_type": "code",
   "execution_count": 78,
   "metadata": {},
   "outputs": [],
   "source": [
    "y = ef.sin(x) * b + ef.power(b, 2) * x"
   ]
  },
  {
   "cell_type": "code",
   "execution_count": 79,
   "metadata": {},
   "outputs": [
    {
     "data": {
      "text/plain": [
       "(11.524412954423688,\n",
       " {'b': 6.841470984807897, 'x': 10.620906917604419},\n",
       " {'b': 2.0,\n",
       "  'bx': 6.54030230586814,\n",
       "  'xb': 6.54030230586814,\n",
       "  'x': -2.5244129544236893})"
      ]
     },
     "execution_count": 79,
     "metadata": {},
     "output_type": "execute_result"
    }
   ],
   "source": [
    "y.val, y.der, y.der2"
   ]
  },
  {
   "cell_type": "markdown",
   "metadata": {},
   "source": [
    "To get the Jacobian:\n",
    "\n",
    "$$ f:\\mathbb{R}^n \\rightarrow \\mathbb{R}^m $$\n",
    "\n",
    "Define $f$  \n",
    "  $$ f:\\mathbb{R}^2 \\rightarrow \\mathbb{R}^3 $$\n",
    "\n",
    "  $$f_1 = e^{x_1^2} + x_3 sin(x_1x_2)$$\n",
    "  $$f_2 = x_1 \\times x_2$$"
   ]
  },
  {
   "cell_type": "code",
   "execution_count": 80,
   "metadata": {},
   "outputs": [],
   "source": [
    "x = [2, 0.4]"
   ]
  },
  {
   "cell_type": "code",
   "execution_count": 81,
   "metadata": {},
   "outputs": [],
   "source": [
    "def f(x):\n",
    "    return [ef.exp(x[0]) + x[1] * ef.sin(x[0]*x[1]), x[1] * x[0]]"
   ]
  },
  {
   "cell_type": "code",
   "execution_count": 82,
   "metadata": {},
   "outputs": [],
   "source": [
    "f_eval, jacobian = J_F(f, x)"
   ]
  },
  {
   "cell_type": "code",
   "execution_count": 83,
   "metadata": {},
   "outputs": [
    {
     "data": {
      "text/plain": [
       "(array([7.67599854, 0.8       ]), array([[7.50052917, 1.27472146],\n",
       "        [0.4       , 2.        ]]))"
      ]
     },
     "execution_count": 83,
     "metadata": {},
     "output_type": "execute_result"
    }
   ],
   "source": [
    "f_eval, jacobian"
   ]
  }
 ],
 "metadata": {
  "celltoolbar": "Slideshow",
  "kernelspec": {
   "display_name": "Python 3",
   "language": "python",
   "name": "python3"
  },
  "language_info": {
   "codemirror_mode": {
    "name": "ipython",
    "version": 3
   },
   "file_extension": ".py",
   "mimetype": "text/x-python",
   "name": "python",
   "nbconvert_exporter": "python",
   "pygments_lexer": "ipython3",
   "version": "3.7.0"
  }
 },
 "nbformat": 4,
 "nbformat_minor": 2
}
