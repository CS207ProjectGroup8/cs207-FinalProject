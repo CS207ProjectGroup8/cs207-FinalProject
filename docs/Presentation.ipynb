{
 "cells": [
  {
   "cell_type": "markdown",
   "metadata": {
    "slideshow": {
     "slide_type": "slide"
    }
   },
   "source": [
    "# hotAD\n",
    "## The hottest new package for Automatic Differentiation"
   ]
  },
  {
   "cell_type": "markdown",
   "metadata": {
    "slideshow": {
     "slide_type": "slide"
    }
   },
   "source": [
    "## I. Why the burning need for Automatic Differentiation?\n",
    "\n",
    "### 1 minute\n",
    "\n",
    "HENRY THE THIEF"
   ]
  },
  {
   "cell_type": "markdown",
   "metadata": {
    "slideshow": {
     "slide_type": "subslide"
    }
   },
   "source": [
    "Motivation"
   ]
  },
  {
   "cell_type": "markdown",
   "metadata": {
    "slideshow": {
     "slide_type": "subslide"
    }
   },
   "source": [
    "Background - Chain Rule"
   ]
  },
  {
   "cell_type": "markdown",
   "metadata": {
    "slideshow": {
     "slide_type": "slide"
    }
   },
   "source": [
    "## II. How can hotAD help?"
   ]
  },
  {
   "cell_type": "markdown",
   "metadata": {},
   "source": [
    "Basic features:  \n",
    "function value  \n",
    "first derivative  \n",
    "Jacobian matrix  $J_F$ calculated for functions of the form $F : \\mathbb{R}^n \\rightarrow \\mathbb{R}^m$\n",
    "\n",
    "++ demo of all of the above\n",
    "\n",
    "### less than 3 minutes\n",
    "\n",
    "Anthony sad face"
   ]
  },
  {
   "cell_type": "markdown",
   "metadata": {},
   "source": [
    "**Additional features:**\n",
    "\n",
    "Root finding: Newton   $F : \\mathbb{R}^n \\rightarrow \\mathbb{R}^n$   \n",
    "(brief math background plz)  \n",
    "\n",
    "++ demo\n",
    "\n",
    "### 1.5 minutes\n",
    "\n",
    "Lipika (killing the puns tonight)"
   ]
  },
  {
   "cell_type": "markdown",
   "metadata": {},
   "source": [
    "**Additional features:**\n",
    "\n",
    "Optimization: $F : \\mathbb{R}^n \\rightarrow \\mathbb{R}$  \n",
    "3 methods:\n",
    "- Newton -- Lipika\n",
    "- BFGS -- Kay the literal mastermind behind our additional features\n",
    "- Gradient Descent  -- Kay aka KWEEN\n",
    "\n",
    "(brief math background plz)  \n",
    "++ demo plz  \n",
    "++ compare 3 methods (maybe using %time?)\n",
    "\n",
    "### 5 minutes"
   ]
  },
  {
   "cell_type": "markdown",
   "metadata": {
    "slideshow": {
     "slide_type": "slide"
    }
   },
   "source": [
    "## III. Conclusion\n",
    "\n",
    "- Future work\n",
    "- Possible Extensions\n",
    "\n",
    "### 1 minute\n",
    "\n",
    "Henry the closer"
   ]
  }
 ],
 "metadata": {
  "celltoolbar": "Slideshow",
  "kernelspec": {
   "display_name": "Python 3",
   "language": "python",
   "name": "python3"
  },
  "language_info": {
   "codemirror_mode": {
    "name": "ipython",
    "version": 3
   },
   "file_extension": ".py",
   "mimetype": "text/x-python",
   "name": "python",
   "nbconvert_exporter": "python",
   "pygments_lexer": "ipython3",
   "version": "3.7.0"
  }
 },
 "nbformat": 4,
 "nbformat_minor": 2
}
